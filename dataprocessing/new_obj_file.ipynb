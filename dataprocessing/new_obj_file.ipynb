{
 "cells": [
  {
   "cell_type": "code",
   "execution_count": 1,
   "id": "9d55d19b-4710-47b8-bff5-c41c2b496cce",
   "metadata": {},
   "outputs": [],
   "source": [
    "x_angle=50\n",
    "y_angle=20\n",
    "z_angle=30\n",
    "\n",
    "in_mesh = './data/g_0.obj'\n",
    "out_mesh = './data/new_g_0.obj'"
   ]
  },
  {
   "cell_type": "code",
   "execution_count": 3,
   "id": "0c2a282a-9577-4f46-8134-8e1a9aa5a3ee",
   "metadata": {},
   "outputs": [
    {
     "ename": "ModuleNotFoundError",
     "evalue": "No module named 'open3d'",
     "output_type": "error",
     "traceback": [
      "\u001b[0;31m---------------------------------------------------------------------------\u001b[0m",
      "\u001b[0;31mModuleNotFoundError\u001b[0m                       Traceback (most recent call last)",
      "\u001b[0;32m<ipython-input-3-a19694f6c95b>\u001b[0m in \u001b[0;36m<module>\u001b[0;34m\u001b[0m\n\u001b[1;32m     11\u001b[0m \u001b[0;32mfrom\u001b[0m \u001b[0mmatplotlib\u001b[0m\u001b[0;34m.\u001b[0m\u001b[0mcolors\u001b[0m \u001b[0;32mimport\u001b[0m \u001b[0mLinearSegmentedColormap\u001b[0m\u001b[0;34m\u001b[0m\u001b[0;34m\u001b[0m\u001b[0m\n\u001b[1;32m     12\u001b[0m \u001b[0;32mimport\u001b[0m \u001b[0mnumpy\u001b[0m \u001b[0;32mas\u001b[0m \u001b[0mnp\u001b[0m\u001b[0;34m\u001b[0m\u001b[0;34m\u001b[0m\u001b[0m\n\u001b[0;32m---> 13\u001b[0;31m \u001b[0;32mimport\u001b[0m \u001b[0mopen3d\u001b[0m \u001b[0;32mas\u001b[0m \u001b[0mo3d\u001b[0m\u001b[0;34m\u001b[0m\u001b[0;34m\u001b[0m\u001b[0m\n\u001b[0m\u001b[1;32m     14\u001b[0m \u001b[0;34m\u001b[0m\u001b[0m\n\u001b[1;32m     15\u001b[0m \u001b[0;34m\u001b[0m\u001b[0m\n",
      "\u001b[0;31mModuleNotFoundError\u001b[0m: No module named 'open3d'"
     ]
    }
   ],
   "source": [
    "from tqdm.notebook import tqdm, trange\n",
    "from scipy.spatial.transform import Rotation as R\n",
    "import matplotlib.animation as anim\n",
    "\n",
    "import matplotlib.pyplot as plt\n",
    "\n",
    "from matplotlib import rc\n",
    "rc('animation', html='jshtml')\n",
    "\n",
    "import matplotlib.animation as anim\n",
    "from matplotlib.colors import LinearSegmentedColormap\n",
    "import numpy as np\n",
    "import open3d as o3d\n",
    "\n",
    "\n",
    "pcd_load = open3d.io.read_triangle_mesh(in_mesh)\n",
    "data = np.asarray(pcd_load.vertices)\n",
    "tri = np.asarray(pcd_load.triangles)\n",
    "print(data.shape)\n",
    "x=data[:,0]\n",
    "y=data[:,1]\n",
    "z=data[:,2]\n",
    "\n",
    "ax = plt.figure().add_subplot(projection='3d')\n",
    "x_rot = R.from_rotvec(np.pi/180*x_angle * np.array([1, 0, 0]))\n",
    "y_rot = R.from_rotvec(np.pi/180*x_angle * np.array([0, 1, 0]))\n",
    "z_rot = R.from_rotvec(np.pi/180*z_angle * np.array([0, 0, 1]))\n",
    "x_rot.as_matrix()\n",
    "y_rot.as_matrix()\n",
    "z_rot.as_matrix()\n",
    "data=x_rot.apply(data)\n",
    "data=y_rot.apply(data)\n",
    "data=z_rot.apply(data)\n",
    "x=data[:,0]\n",
    "y=data[:,1]\n",
    "z=data[:,2]\n",
    "ax.set_xlabel('$X$', fontsize=20, rotation=150)\n",
    "ax.set_ylabel('$Y$', fontsize=20, rotation=150)\n",
    "ax.set_zlabel('$Z$', fontsize=20, rotation=150)\n",
    "ax.view_init(elev=10, azim=-30)\n",
    "ax.plot_trisurf(z,x,y, triangles=tri, cmap=plt.cm.Spectral)\n",
    "plt.show()\n"
   ]
  },
  {
   "cell_type": "code",
   "execution_count": 59,
   "id": "f8e2fcc3-ed47-48c5-9349-549a50bdbcb8",
   "metadata": {},
   "outputs": [
    {
     "data": {
      "text/plain": [
       "True"
      ]
     },
     "execution_count": 59,
     "metadata": {},
     "output_type": "execute_result"
    }
   ],
   "source": [
    "new_mesh = pcd_load\n",
    "new_mesh.vertices = o3d.utility.Vector3dVector(data)\n",
    "new_mesh.compute_vertex_normals()\n",
    "o3d.io.write_triangle_mesh(out_mesh,new_mesh)"
   ]
  }
 ],
 "metadata": {
  "kernelspec": {
   "display_name": "Python 3",
   "language": "python",
   "name": "python3"
  },
  "language_info": {
   "codemirror_mode": {
    "name": "ipython",
    "version": 3
   },
   "file_extension": ".py",
   "mimetype": "text/x-python",
   "name": "python",
   "nbconvert_exporter": "python",
   "pygments_lexer": "ipython3",
   "version": "3.8.10"
  }
 },
 "nbformat": 4,
 "nbformat_minor": 5
}
